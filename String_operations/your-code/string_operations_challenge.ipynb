{
 "cells": [
  {
   "cell_type": "markdown",
   "metadata": {},
   "source": [
    "# Before your start:\n",
    "- Read the README.md file\n",
    "- Comment as much as you can and use the resources in the README.md file\n",
    "- Happy learning!"
   ]
  },
  {
   "cell_type": "code",
   "execution_count": 1,
   "metadata": {},
   "outputs": [],
   "source": [
    "import re"
   ]
  },
  {
   "cell_type": "markdown",
   "metadata": {},
   "source": [
    "# Challenge 1 - Combining Strings\n",
    "\n",
    "Combining strings is an important skill to acquire. There are multiple ways of combining strings in Python, as well as combining strings with variables. We will explore this in the first challenge. In the cell below, combine the strings in the list and add spaces between the strings (do not add a space after the last string). Insert a period after the last string."
   ]
  },
  {
   "cell_type": "code",
   "execution_count": 2,
   "metadata": {},
   "outputs": [],
   "source": [
    "str_list = ['Durante', 'un', 'tiempo', 'no', 'estuvo', 'segura', 'de', 'si', 'su', 'marido', 'era', 'su', 'marido']"
   ]
  },
  {
   "cell_type": "code",
   "execution_count": 8,
   "metadata": {},
   "outputs": [
    {
     "data": {
      "text/plain": [
       "'Durante un tiempo no estuvo segura de si su marido era su marido.'"
      ]
     },
     "execution_count": 8,
     "metadata": {},
     "output_type": "execute_result"
    }
   ],
   "source": [
    "new_string = ' '.join(str_list) + '.'\n",
    "\n",
    "new_string"
   ]
  },
  {
   "cell_type": "markdown",
   "metadata": {},
   "source": [
    "In the cell below, use the list of strings to create a grocery list. Start the list with the string `Grocery list: ` and include a comma and a space between each item except for the last one. Include a period at the end. Only include foods in the list that start with the letter 'b' and ensure all foods are lower case."
   ]
  },
  {
   "cell_type": "code",
   "execution_count": 42,
   "metadata": {},
   "outputs": [],
   "source": [
    "food_list = ['Bananas', 'Chocolate', 'bread', 'diapers', 'Ice Cream', 'Brownie Mix', 'broccoli']\n",
    "# Your code here:\n",
    "grocery = list(filter(lambda x:x.lower().startswith('b'), food_list))\n",
    "\n",
    "grocery_list = 'Grocery list: ' + ', '.join(grocery).lower() + '.'"
   ]
  },
  {
   "cell_type": "code",
   "execution_count": 43,
   "metadata": {},
   "outputs": [
    {
     "data": {
      "text/plain": [
       "'Grocery list: bananas, bread, brownie mix, broccoli.'"
      ]
     },
     "execution_count": 43,
     "metadata": {},
     "output_type": "execute_result"
    }
   ],
   "source": [
    "grocery_list"
   ]
  },
  {
   "cell_type": "markdown",
   "metadata": {},
   "source": [
    "In the cell below, compute the area of a circle using its radius and insert the radius and the area between `string1` and `string2`. Make sure to include spaces between the variable and the strings. \n",
    "\n",
    "Note: You can use the techniques we have learned so far or use f-strings. F-strings allow us to embed code inside strings. You can read more about f-strings [here](https://www.python.org/dev/peps/pep-0498/)."
   ]
  },
  {
   "cell_type": "code",
   "execution_count": 56,
   "metadata": {},
   "outputs": [
    {
     "data": {
      "text/plain": [
       "'The area of the circle with radius: 4.5 is: 63.61725123519331'"
      ]
     },
     "execution_count": 56,
     "metadata": {},
     "output_type": "execute_result"
    }
   ],
   "source": [
    "import math\n",
    "\n",
    "string1 = \"The area of the circle with radius:\"\n",
    "string2  = \"is:\"\n",
    "radius = 4.5\n",
    "pi = math.pi\n",
    "\n",
    "# Your code here:\n",
    "area = f'{string1} {radius} {string2} {(radius)**2 * pi}'\n",
    "\n",
    "area"
   ]
  },
  {
   "cell_type": "markdown",
   "metadata": {},
   "source": [
    "# Challenge 2 - Splitting Strings\n",
    "\n",
    "We have first looked at combining strings into one long string. There are times where we need to do the opposite and split the string into smaller components for further analysis. \n",
    "\n",
    "In the cell below, split the string into a list of strings using the space delimiter. Count the frequency of each word in the string in a dictionary. Strip the periods, line breaks and commas from the text. Make sure to remove empty strings from your dictionary."
   ]
  },
  {
   "cell_type": "code",
   "execution_count": 71,
   "metadata": {},
   "outputs": [
    {
     "data": {
      "text/plain": [
       "{'some': 2,\n",
       " 'say': 3,\n",
       " 'the': 1,\n",
       " 'world': 1,\n",
       " 'will': 1,\n",
       " 'end': 1,\n",
       " 'i': 5,\n",
       " 'fire': 2,\n",
       " 'ice': 2,\n",
       " 'from': 1,\n",
       " 'what': 1,\n",
       " 'i’ve': 1,\n",
       " 'tasted': 1,\n",
       " 'of': 2,\n",
       " 'desire': 1,\n",
       " 'hold': 1,\n",
       " 'with': 1,\n",
       " 'those': 1,\n",
       " 'who': 1,\n",
       " 'favor': 1,\n",
       " 'but': 1,\n",
       " 'if': 1,\n",
       " 'it': 1,\n",
       " 'had': 1,\n",
       " 'to': 2,\n",
       " 'perish': 1,\n",
       " 'twice': 1,\n",
       " 'think': 1,\n",
       " 'know': 1,\n",
       " 'enough': 1,\n",
       " 'hate': 1,\n",
       " 'that': 1,\n",
       " 'for': 1,\n",
       " 'destructio': 1,\n",
       " 'is': 1,\n",
       " 'also': 1,\n",
       " 'great': 1,\n",
       " 'and': 1,\n",
       " 'would': 1,\n",
       " 'suffice': 1}"
      ]
     },
     "execution_count": 71,
     "metadata": {},
     "output_type": "execute_result"
    }
   ],
   "source": [
    "poem = \"\"\"Some say the world will end in fire,\n",
    "Some say in ice.\n",
    "From what I’ve tasted of desire\n",
    "I hold with those who favor fire.\n",
    "But if it had to perish twice,\n",
    "I think I know enough of hate\n",
    "To say that for destruction ice\n",
    "Is also great\n",
    "And would suffice.\"\"\"\n",
    "\n",
    "#list comprehension - word.lower() + strip of characters in poem\n",
    "wordcount = [word.lower().strip(\".,/n'\") for word in poem.split()]\n",
    "\n",
    "#dictionary comprehesion key,value pair over word : wordcount.count()\n",
    "word_dict = {word : wordcount.count(word) for word in wordcount}\n",
    "\n",
    "word_dict"
   ]
  },
  {
   "cell_type": "markdown",
   "metadata": {},
   "source": [
    "In the cell below, find all the words that appear in the text and do not appear in the blacklist. You must parse the string but can choose any data structure you wish for the words that do not appear in the blacklist. Remove all non letter characters and convert all words to lower case."
   ]
  },
  {
   "cell_type": "code",
   "execution_count": 87,
   "metadata": {},
   "outputs": [
    {
     "name": "stdout",
     "output_type": "stream",
     "text": [
      "{'i': 7, 'was': 3, 'angry': 2, 'with': 5, 'my': 9, 'friend': 1, 'told': 2, 'wrath': 3, 'did': 2, 'end': 1, 'foe:': 1, 'not': 1, 'grow': 1, 'waterd': 1, 'fears': 1, 'night': 3, 'morning': 2, 'tears:': 1, 'sunned': 1, 'smiles': 1, 'soft': 1, 'deceitful': 1, 'wiles': 1, 'grew': 1, 'both': 1, 'day': 1, 'till': 1, 'bore': 1, 'apple': 1, 'bright': 1, 'foe': 2, 'beheld': 1, 'shine': 1, 'he': 1, 'knew': 1, 'that': 1, 'mine': 1, 'into': 1, 'garden': 1, 'stole': 1, 'when': 1, 'had': 1, 'veild': 1, 'pole': 1, 'glad': 1, 'see': 1, 'outstretched': 1, 'beneath': 1, 'tree': 1}\n"
     ]
    }
   ],
   "source": [
    "blacklist = ['and', 'as', 'an', 'a', 'the', 'in', 'it']\n",
    "\n",
    "poem = \"\"\"I was angry with my friend; \n",
    "I told my wrath, my wrath did end.\n",
    "I was angry with my foe: \n",
    "I told it not, my wrath did grow. \n",
    "\n",
    "And I waterd it in fears,\n",
    "Night & morning with my tears: \n",
    "And I sunned it with smiles,\n",
    "And with soft deceitful wiles. \n",
    "\n",
    "And it grew both day and night. \n",
    "Till it bore an apple bright. \n",
    "And my foe beheld it shine,\n",
    "And he knew that it was mine. \n",
    "\n",
    "And into my garden stole, \n",
    "When the night had veild the pole; \n",
    "In the morning glad I see; \n",
    "My foe outstretched beneath the tree.\"\"\"\n",
    "\n",
    "# Your code here:\n",
    "\n",
    "# List comprehension including .strip() of non characters + excluding white spaces + not in blacklist\n",
    "notblacklist = [word.strip(',;.&') for word in poem.lower().split() if word.strip(',;.&') != ''\n",
    "                if word not in blacklist]\n",
    "\n",
    "notblacklist_dict = {word:notblacklist.count(word) for word in notblacklist}\n",
    "\n",
    "print(notblacklist_dict)"
   ]
  },
  {
   "cell_type": "markdown",
   "metadata": {},
   "source": [
    "# Challenge 3 - Regular Expressions\n",
    "\n",
    "Sometimes, we would like to perform more complex manipulations of our string. This is where regular expressions come in handy. In the cell below, return all characters that are upper case from the string specified below."
   ]
  },
  {
   "cell_type": "code",
   "execution_count": 91,
   "metadata": {},
   "outputs": [
    {
     "data": {
      "text/plain": [
       "['T', 'P']"
      ]
     },
     "execution_count": 91,
     "metadata": {},
     "output_type": "execute_result"
    }
   ],
   "source": [
    "poem = \"\"\"The apparition of these faces in the crowd;\n",
    "Petals on a wet, black bough.\"\"\"\n",
    "\n",
    "# Your code here:\n",
    "pattern = '[A-Z]'\n",
    "re.search(pattern, poem) #looks only for first occurence\n",
    "\n",
    "re.findall(pattern, poem) #looks for all occurences"
   ]
  },
  {
   "cell_type": "markdown",
   "metadata": {},
   "source": [
    "In the cell below, filter the list provided and return all elements of the list containing a number. To filter the list, use the `re.search` function. Check if the function does not return `None`. You can read more about the `re.search` function [here](https://docs.python.org/3/library/re.html)."
   ]
  },
  {
   "cell_type": "code",
   "execution_count": 102,
   "metadata": {},
   "outputs": [
    {
     "data": {
      "text/plain": [
       "['123abc', 'abc123', 'JohnSmith1', 'ABBY4']"
      ]
     },
     "execution_count": 102,
     "metadata": {},
     "output_type": "execute_result"
    }
   ],
   "source": [
    "data = ['123abc', 'abc123', 'JohnSmith1', 'ABBY4', 'JANE']\n",
    "\n",
    "# Your code here:\n",
    "pattern = '\\d'\n",
    "\n",
    "[word for word in data if re.search(pattern, word)]"
   ]
  },
  {
   "cell_type": "markdown",
   "metadata": {},
   "source": [
    "# Bonus Challenge - Regular Expressions II\n",
    "\n",
    "In the cell below, filter the list provided to keep only strings containing at least one digit and at least one lower case letter. As in the previous question, use the `re.search` function and check that the result is not `None`.\n",
    "\n",
    "To read more about regular expressions, check out [this link](https://developers.google.com/edu/python/regular-expressions)."
   ]
  },
  {
   "cell_type": "code",
   "execution_count": 108,
   "metadata": {},
   "outputs": [
    {
     "data": {
      "text/plain": [
       "['123abc', 'abc123', 'JohnSmith1']"
      ]
     },
     "execution_count": 108,
     "metadata": {},
     "output_type": "execute_result"
    }
   ],
   "source": [
    "data = ['123abc', 'abc123', 'JohnSmith1', 'ABBY4', 'JANE']\n",
    "\n",
    "# Your code here:\n",
    "pattern = '(/d+)|([a-z])'\n",
    "\n",
    "[word for word in data if re.search(pattern, word)]"
   ]
  },
  {
   "cell_type": "code",
   "execution_count": null,
   "metadata": {},
   "outputs": [],
   "source": []
  }
 ],
 "metadata": {
  "file_extension": ".py",
  "kernelspec": {
   "display_name": "Python 3",
   "language": "python",
   "name": "python3"
  },
  "language_info": {
   "codemirror_mode": {
    "name": "ipython",
    "version": 3
   },
   "file_extension": ".py",
   "mimetype": "text/x-python",
   "name": "python",
   "nbconvert_exporter": "python",
   "pygments_lexer": "ipython3",
   "version": "3.8.0"
  },
  "mimetype": "text/x-python",
  "name": "python",
  "npconvert_exporter": "python",
  "pygments_lexer": "ipython3",
  "version": 3
 },
 "nbformat": 4,
 "nbformat_minor": 2
}
