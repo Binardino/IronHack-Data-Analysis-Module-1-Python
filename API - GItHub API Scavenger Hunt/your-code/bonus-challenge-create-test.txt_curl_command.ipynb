{
 "cells": [
  {
   "cell_type": "markdown",
   "metadata": {},
   "source": [
    "# Additional Challenge for the Nerds"
   ]
  },
  {
   "cell_type": "markdown",
   "metadata": {},
   "source": [
    "#### Create a new file called test.txt.\n",
    "\n",
    "* Create a new repository.\n",
    "* Call the API endpoint to create a new file in the new repository.\n",
    "\n",
    "Include the command you used in the terminal to call the API endpoint and create the file:"
   ]
  },
  {
   "cell_type": "markdown",
   "metadata": {},
   "source": [
    "curl -i -X PUT -H 'Authorization: token <token>' -d '{\"path\": \"test.txt\", \"message\": \"Initial commit\", \"committer\": {\"name\": \"Binardino\", \"email\": \"Marty@McFly.com\"}, \"content\": \"We_need_to_get_back_to_the_future_doc\", \"branch\": \"master\"}' https://api.github.com/repos/Binardino/IronHack-Data-Analysis-Module-1-Python/contents/API-GItHub_API_Scavenger_Hunt/your-code/test.txt"
   ]
  },
  {
   "cell_type": "code",
   "execution_count": null,
   "metadata": {},
   "outputs": [],
   "source": []
  }
 ],
 "metadata": {
  "kernelspec": {
   "display_name": "ironhack-3.7",
   "language": "python",
   "name": "ironhack-3.7"
  },
  "language_info": {
   "codemirror_mode": {
    "name": "ipython",
    "version": 3
   },
   "file_extension": ".py",
   "mimetype": "text/x-python",
   "name": "python",
   "nbconvert_exporter": "python",
   "pygments_lexer": "ipython3",
   "version": "3.7.3"
  }
 },
 "nbformat": 4,
 "nbformat_minor": 2
}
