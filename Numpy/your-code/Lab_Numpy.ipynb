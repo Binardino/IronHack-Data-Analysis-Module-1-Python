{
 "cells": [
  {
   "cell_type": "markdown",
   "metadata": {},
   "source": [
    "# Intrduction to NumPy\n",
    "\n",
    "\n",
    "#### 1. Import NumPy under the name np."
   ]
  },
  {
   "cell_type": "code",
   "execution_count": 6,
   "metadata": {},
   "outputs": [],
   "source": [
    "import numpy as np\n",
    "import random"
   ]
  },
  {
   "cell_type": "markdown",
   "metadata": {},
   "source": [
    "#### 2. Print your NumPy version."
   ]
  },
  {
   "cell_type": "code",
   "execution_count": 5,
   "metadata": {},
   "outputs": [
    {
     "name": "stdout",
     "output_type": "stream",
     "text": [
      "1.18.1\n"
     ]
    }
   ],
   "source": [
    "print(np.__version__)"
   ]
  },
  {
   "cell_type": "markdown",
   "metadata": {},
   "source": [
    "#### 3. Generate a 2x3x5 3-dimensional array with random values. Assign the array to variable *a*.\n",
    "**Challenge**: there are at least three easy ways that use numpy to generate random arrays. How many ways can you find?"
   ]
  },
  {
   "cell_type": "code",
   "execution_count": 7,
   "metadata": {},
   "outputs": [
    {
     "data": {
      "text/plain": [
       "array([[[0.44345502, 0.44518657, 0.03270929, 0.41429688, 0.58258845],\n",
       "        [0.64300406, 0.97458802, 0.918499  , 0.18171223, 0.95225118],\n",
       "        [0.00356952, 0.96329753, 0.69960377, 0.34059741, 0.73545513]],\n",
       "\n",
       "       [[0.46084473, 0.68960848, 0.31118119, 0.00694049, 0.61554755],\n",
       "        [0.67399441, 0.87872417, 0.60024968, 0.13403651, 0.20370838],\n",
       "        [0.47549899, 0.40899375, 0.02343915, 0.2513997 , 0.58971082]]])"
      ]
     },
     "execution_count": 7,
     "metadata": {},
     "output_type": "execute_result"
    }
   ],
   "source": [
    "# Method 1\n",
    "array_1 = np.random.rand(2,3,5)\n",
    "\n",
    "array_1"
   ]
  },
  {
   "cell_type": "code",
   "execution_count": 14,
   "metadata": {},
   "outputs": [
    {
     "data": {
      "text/plain": [
       "array([[[56, 58, 73, 37, 33],\n",
       "        [75, 62, 26, 69, 71],\n",
       "        [68, 56, 62, 14, 46]],\n",
       "\n",
       "       [[72, 85, 54, 22, 41],\n",
       "        [99, 56, 76,  1, 48],\n",
       "        [99, 83, 95,  1, 95]]])"
      ]
     },
     "execution_count": 14,
     "metadata": {},
     "output_type": "execute_result"
    }
   ],
   "source": [
    "# Method 2\n",
    "array_2 = np.random.randint(low=0 , high=100,size=(2,3,5))\n",
    "\n",
    "array_2"
   ]
  },
  {
   "cell_type": "code",
   "execution_count": 15,
   "metadata": {},
   "outputs": [
    {
     "data": {
      "text/plain": [
       "array([[[39.64157941, 77.75064771,  8.98353895, 74.21958303,\n",
       "         86.38138134],\n",
       "        [24.34398434, 72.17567774, 35.90556417, 89.22322186,\n",
       "         73.4450289 ],\n",
       "        [ 6.29748147, 92.18037472, 30.31743389, 26.73726385,\n",
       "         51.64908056]],\n",
       "\n",
       "       [[94.01704013, 29.83977078, 44.87055645, 45.28800602,\n",
       "         62.81538889],\n",
       "        [93.86779397, 59.31512233, 78.71518655, 87.72510771,\n",
       "         54.10632489],\n",
       "        [ 0.67953244, 66.54107702, 39.58980994, 28.58723016,\n",
       "         70.5073435 ]]])"
      ]
     },
     "execution_count": 15,
     "metadata": {},
     "output_type": "execute_result"
    }
   ],
   "source": [
    "# Method 3\n",
    "array_3 = np.random.uniform(low=0, high=100, size=(2,3,5))\n",
    "\n",
    "array_3"
   ]
  },
  {
   "cell_type": "markdown",
   "metadata": {},
   "source": [
    "#### 4. Print *a*.\n"
   ]
  },
  {
   "cell_type": "code",
   "execution_count": 18,
   "metadata": {},
   "outputs": [
    {
     "name": "stdout",
     "output_type": "stream",
     "text": [
      "[[[0.44345502 0.44518657 0.03270929 0.41429688 0.58258845]\n",
      "  [0.64300406 0.97458802 0.918499   0.18171223 0.95225118]\n",
      "  [0.00356952 0.96329753 0.69960377 0.34059741 0.73545513]]\n",
      "\n",
      " [[0.46084473 0.68960848 0.31118119 0.00694049 0.61554755]\n",
      "  [0.67399441 0.87872417 0.60024968 0.13403651 0.20370838]\n",
      "  [0.47549899 0.40899375 0.02343915 0.2513997  0.58971082]]]\n"
     ]
    }
   ],
   "source": [
    "a = array_1\n",
    "print(a)"
   ]
  },
  {
   "cell_type": "markdown",
   "metadata": {},
   "source": [
    "#### 5. Create a 5x2x3 3-dimensional array with all values equaling 1. Assign the array to variable *b*."
   ]
  },
  {
   "cell_type": "code",
   "execution_count": 23,
   "metadata": {},
   "outputs": [
    {
     "data": {
      "text/plain": [
       "array([[[1, 1, 1],\n",
       "        [1, 1, 1]],\n",
       "\n",
       "       [[1, 1, 1],\n",
       "        [1, 1, 1]],\n",
       "\n",
       "       [[1, 1, 1],\n",
       "        [1, 1, 1]],\n",
       "\n",
       "       [[1, 1, 1],\n",
       "        [1, 1, 1]],\n",
       "\n",
       "       [[1, 1, 1],\n",
       "        [1, 1, 1]]])"
      ]
     },
     "execution_count": 23,
     "metadata": {},
     "output_type": "execute_result"
    }
   ],
   "source": [
    "b = np.full(shape=(5,2,3), fill_value=1)\n",
    "\n",
    "b"
   ]
  },
  {
   "cell_type": "markdown",
   "metadata": {},
   "source": [
    "#### 6. Print *b*.\n"
   ]
  },
  {
   "cell_type": "code",
   "execution_count": 24,
   "metadata": {},
   "outputs": [
    {
     "data": {
      "text/plain": [
       "array([[[1, 1, 1],\n",
       "        [1, 1, 1]],\n",
       "\n",
       "       [[1, 1, 1],\n",
       "        [1, 1, 1]],\n",
       "\n",
       "       [[1, 1, 1],\n",
       "        [1, 1, 1]],\n",
       "\n",
       "       [[1, 1, 1],\n",
       "        [1, 1, 1]],\n",
       "\n",
       "       [[1, 1, 1],\n",
       "        [1, 1, 1]]])"
      ]
     },
     "execution_count": 24,
     "metadata": {},
     "output_type": "execute_result"
    }
   ],
   "source": [
    "b"
   ]
  },
  {
   "cell_type": "markdown",
   "metadata": {},
   "source": [
    "#### 7. Do *a* and *b* have the same size? How do you prove that in Python code?"
   ]
  },
  {
   "cell_type": "code",
   "execution_count": 27,
   "metadata": {},
   "outputs": [
    {
     "data": {
      "text/plain": [
       "True"
      ]
     },
     "execution_count": 27,
     "metadata": {},
     "output_type": "execute_result"
    }
   ],
   "source": [
    "# np.array_equal compares i f2 arrays have same size & same shape - here False\n",
    "np.array_equal(a,b)\n",
    "\n",
    "# array.size == allows to compare both sizes\n",
    "a.size == b.size"
   ]
  },
  {
   "cell_type": "markdown",
   "metadata": {},
   "source": [
    "#### 8. Are you able to add *a* and *b*? Why or why not?\n"
   ]
  },
  {
   "cell_type": "code",
   "execution_count": 28,
   "metadata": {},
   "outputs": [
    {
     "ename": "ValueError",
     "evalue": "operands could not be broadcast together with shapes (2,3,5) (5,2,3) ",
     "output_type": "error",
     "traceback": [
      "\u001b[1;31m---------------------------------------------------------------------------\u001b[0m",
      "\u001b[1;31mValueError\u001b[0m                                Traceback (most recent call last)",
      "\u001b[1;32m<ipython-input-28-bd58363a63fc>\u001b[0m in \u001b[0;36m<module>\u001b[1;34m\u001b[0m\n\u001b[1;32m----> 1\u001b[1;33m \u001b[0ma\u001b[0m \u001b[1;33m+\u001b[0m \u001b[0mb\u001b[0m\u001b[1;33m\u001b[0m\u001b[1;33m\u001b[0m\u001b[0m\n\u001b[0m",
      "\u001b[1;31mValueError\u001b[0m: operands could not be broadcast together with shapes (2,3,5) (5,2,3) "
     ]
    }
   ],
   "source": [
    "#No Addition impossible because they have different shapes - trying to adding them returns ValueError\n",
    "# Needs to be transpose firts\n",
    "a + b"
   ]
  },
  {
   "cell_type": "markdown",
   "metadata": {},
   "source": [
    "#### 9. Transpose *b* so that it has the same structure of *a* (i.e. become a 2x3x5 array). Assign the transposed array to variable *c*."
   ]
  },
  {
   "cell_type": "code",
   "execution_count": 40,
   "metadata": {},
   "outputs": [
    {
     "name": "stdout",
     "output_type": "stream",
     "text": [
      "c shape is  (3, 2, 5) not the size expected because of wrong b shape\n",
      "c shape is now at the correct size (2, 3, 5)\n"
     ]
    }
   ],
   "source": [
    "# there is an error in the instruction - original b array is 5x2x3 (cf. question 5)\n",
    "# simply transposing array b would make it 3x2x5 - NOT 2x3x5 as expected in this instruction\n",
    "c = b.transpose()\n",
    "c.shape\n",
    "print('c shape is ', c.shape, 'not the size expected because of wrong b shape')\n",
    "\n",
    "# needs to reshape b to the required structure to make it possible to add to a\n",
    "c = np.resize(b, (2,3,5))\n",
    "print('c shape is now at the correct size', c.shape)"
   ]
  },
  {
   "cell_type": "markdown",
   "metadata": {},
   "source": [
    "#### 10. Try to add *a* and *c*. Now it should work. Assign the sum to variable *d*. But why does it work now?"
   ]
  },
  {
   "cell_type": "code",
   "execution_count": 44,
   "metadata": {},
   "outputs": [
    {
     "name": "stdout",
     "output_type": "stream",
     "text": [
      "[[[1.44345502 1.44518657 1.03270929 1.41429688 1.58258845]\n",
      "  [1.64300406 1.97458802 1.918499   1.18171223 1.95225118]\n",
      "  [1.00356952 1.96329753 1.69960377 1.34059741 1.73545513]]\n",
      "\n",
      " [[1.46084473 1.68960848 1.31118119 1.00694049 1.61554755]\n",
      "  [1.67399441 1.87872417 1.60024968 1.13403651 1.20370838]\n",
      "  [1.47549899 1.40899375 1.02343915 1.2513997  1.58971082]]]\n",
      "\n",
      " works now because both matrices a & c have the same shape\n"
     ]
    }
   ],
   "source": [
    "d = a + c\n",
    "print(d)\n",
    "print('\\n works now because both matrices a & c have the same shape')"
   ]
  },
  {
   "cell_type": "markdown",
   "metadata": {},
   "source": [
    "#### 11. Print *a* and *d*. Notice the difference and relation of the two array in terms of the values? Explain."
   ]
  },
  {
   "cell_type": "code",
   "execution_count": 45,
   "metadata": {},
   "outputs": [
    {
     "name": "stdout",
     "output_type": "stream",
     "text": [
      "[[[0.44345502 0.44518657 0.03270929 0.41429688 0.58258845]\n",
      "  [0.64300406 0.97458802 0.918499   0.18171223 0.95225118]\n",
      "  [0.00356952 0.96329753 0.69960377 0.34059741 0.73545513]]\n",
      "\n",
      " [[0.46084473 0.68960848 0.31118119 0.00694049 0.61554755]\n",
      "  [0.67399441 0.87872417 0.60024968 0.13403651 0.20370838]\n",
      "  [0.47549899 0.40899375 0.02343915 0.2513997  0.58971082]]]\n",
      "[[[1.44345502 1.44518657 1.03270929 1.41429688 1.58258845]\n",
      "  [1.64300406 1.97458802 1.918499   1.18171223 1.95225118]\n",
      "  [1.00356952 1.96329753 1.69960377 1.34059741 1.73545513]]\n",
      "\n",
      " [[1.46084473 1.68960848 1.31118119 1.00694049 1.61554755]\n",
      "  [1.67399441 1.87872417 1.60024968 1.13403651 1.20370838]\n",
      "  [1.47549899 1.40899375 1.02343915 1.2513997  1.58971082]]]\n"
     ]
    }
   ],
   "source": [
    "#both matrices have the same shape (2x3x5) - making addition operation possible\n",
    "print(a)\n",
    "#array a is equal to random float number\n",
    "print(d)\n",
    "#array d is equal to a + 1 : due to adding up original b matrix (all made of 1) to a"
   ]
  },
  {
   "cell_type": "markdown",
   "metadata": {},
   "source": [
    "#### 12. Multiply *a* and *c*. Assign the result to *e*."
   ]
  },
  {
   "cell_type": "code",
   "execution_count": 57,
   "metadata": {},
   "outputs": [
    {
     "data": {
      "text/plain": [
       "array([[[0.44345502, 0.44518657, 0.03270929, 0.41429688, 0.58258845],\n",
       "        [0.64300406, 0.97458802, 0.918499  , 0.18171223, 0.95225118],\n",
       "        [0.00356952, 0.96329753, 0.69960377, 0.34059741, 0.73545513]],\n",
       "\n",
       "       [[0.46084473, 0.68960848, 0.31118119, 0.00694049, 0.61554755],\n",
       "        [0.67399441, 0.87872417, 0.60024968, 0.13403651, 0.20370838],\n",
       "        [0.47549899, 0.40899375, 0.02343915, 0.2513997 , 0.58971082]]])"
      ]
     },
     "execution_count": 57,
     "metadata": {},
     "output_type": "execute_result"
    }
   ],
   "source": [
    "e = np.multiply(a,c) \n",
    "\n",
    "e"
   ]
  },
  {
   "cell_type": "markdown",
   "metadata": {},
   "source": [
    "#### 13. Does *e* equal to *a*? Why or why not?\n"
   ]
  },
  {
   "cell_type": "code",
   "execution_count": 47,
   "metadata": {},
   "outputs": [
    {
     "data": {
      "text/plain": [
       "array([[[ True,  True,  True,  True,  True],\n",
       "        [ True,  True,  True,  True,  True],\n",
       "        [ True,  True,  True,  True,  True]],\n",
       "\n",
       "       [[ True,  True,  True,  True,  True],\n",
       "        [ True,  True,  True,  True,  True],\n",
       "        [ True,  True,  True,  True,  True]]])"
      ]
     },
     "execution_count": 47,
     "metadata": {},
     "output_type": "execute_result"
    }
   ],
   "source": [
    "#multiplying all elements of a by 1 (all values from c) 1*a = a - #itsOnlyLogical\n",
    "e == a"
   ]
  },
  {
   "cell_type": "code",
   "execution_count": 48,
   "metadata": {},
   "outputs": [
    {
     "data": {
      "text/plain": [
       "True"
      ]
     },
     "execution_count": 48,
     "metadata": {},
     "output_type": "execute_result"
    }
   ],
   "source": [
    "np.array_equal(a,e)"
   ]
  },
  {
   "cell_type": "markdown",
   "metadata": {},
   "source": [
    "#### 14. Identify the max, min, and mean values in *d*. Assign those values to variables *d_max*, *d_min* and *d_mean*."
   ]
  },
  {
   "cell_type": "code",
   "execution_count": 51,
   "metadata": {},
   "outputs": [
    {
     "name": "stdout",
     "output_type": "stream",
     "text": [
      "1.9745880244250844\n",
      "1.0035695239388231\n",
      "1.4884897353682631\n"
     ]
    }
   ],
   "source": [
    "d_max = np.max(d)\n",
    "print(d_max)\n",
    "\n",
    "d_min = np.min(d)\n",
    "print(d_min)\n",
    "\n",
    "d_mean = np.mean(d)\n",
    "print(d_mean)"
   ]
  },
  {
   "cell_type": "markdown",
   "metadata": {},
   "source": [
    "#### 15. Now we want to label the values in *d*. First create an empty array *f* with the same shape (i.e. 2x3x5) as *d* using `np.empty`.\n"
   ]
  },
  {
   "cell_type": "code",
   "execution_count": 55,
   "metadata": {},
   "outputs": [],
   "source": [
    "f = np.empty((2,3,5))"
   ]
  },
  {
   "cell_type": "code",
   "execution_count": 56,
   "metadata": {},
   "outputs": [
    {
     "data": {
      "text/plain": [
       "array([[[1.44345502, 1.44518657, 1.03270929, 1.41429688, 1.58258845],\n",
       "        [1.64300406, 1.97458802, 1.918499  , 1.18171223, 1.95225118],\n",
       "        [1.00356952, 1.96329753, 1.69960377, 1.34059741, 1.73545513]],\n",
       "\n",
       "       [[1.46084473, 1.68960848, 1.31118119, 1.00694049, 1.61554755],\n",
       "        [1.67399441, 1.87872417, 1.60024968, 1.13403651, 1.20370838],\n",
       "        [1.47549899, 1.40899375, 1.02343915, 1.2513997 , 1.58971082]]])"
      ]
     },
     "execution_count": 56,
     "metadata": {},
     "output_type": "execute_result"
    }
   ],
   "source": [
    "f"
   ]
  },
  {
   "cell_type": "markdown",
   "metadata": {},
   "source": [
    "#### 16. Populate the values in *f*. \n",
    "\n",
    "For each value in *d*, if it's larger than *d_min* but smaller than *d_mean*, assign 25 to the corresponding value in *f*. If a value in *d* is larger than *d_mean* but smaller than *d_max*, assign 75 to the corresponding value in *f*. If a value equals to *d_mean*, assign 50 to the corresponding value in *f*. Assign 0 to the corresponding value(s) in *f* for *d_min* in *d*. Assign 100 to the corresponding value(s) in *f* for *d_max* in *d*. In the end, f should have only the following values: 0, 25, 50, 75, and 100.\n",
    "\n",
    "**Note**: you don't have to use Numpy in this question."
   ]
  },
  {
   "cell_type": "code",
   "execution_count": 69,
   "metadata": {},
   "outputs": [],
   "source": [
    "for i in range(len(d)):\n",
    "    for j in range(len(d[i])):\n",
    "        for k in range(len(d[i][j])):\n",
    "            if d[i][j][k] > d_min and d[i][j][k] < d_mean:\n",
    "                f[i][j][k] = 25\n",
    "            elif d[i][j][k] > d_mean and d[i][j][k] < d_max:\n",
    "                f[i][j][k] = 75\n",
    "            elif d[i][j][k] == d_mean :\n",
    "                f[i][j][k] = 50\n",
    "            elif d[i][j][k] == d_min :\n",
    "                f[i][j][k] = 0\n",
    "            else:\n",
    "                f[i][j][k] = 100"
   ]
  },
  {
   "cell_type": "markdown",
   "metadata": {},
   "source": [
    "#### 17. Print *d* and *f*. Do you have your expected *f*?\n",
    "For instance, if your *d* is:\n",
    "```python\n",
    "[[[1.85836099, 1.67064465, 1.62576044, 1.40243961, 1.88454931],\n",
    "[1.75354326, 1.69403643, 1.36729252, 1.61415071, 1.12104981],\n",
    "[1.72201435, 1.1862918 , 1.87078449, 1.7726778 , 1.88180042]],\n",
    "[[1.44747908, 1.31673383, 1.02000951, 1.52218947, 1.97066381],\n",
    "[1.79129243, 1.74983003, 1.96028037, 1.85166831, 1.65450881],\n",
    "[1.18068344, 1.9587381 , 1.00656599, 1.93402165, 1.73514584]]]\n",
    "```\n",
    "Your *f* should be:\n",
    "```python\n",
    "[[[ 75.,  75.,  75.,  25.,  75.],\n",
    "[ 75.,  75.,  25.,  25.,  25.],\n",
    "[ 75.,  25.,  75.,  75.,  75.]],\n",
    "[[ 25.,  25.,  25.,  25., 100.],\n",
    "[ 75.,  75.,  75.,  75.,  75.],\n",
    "[ 25.,  75.,   0.,  75.,  75.]]]\n",
    "```"
   ]
  },
  {
   "cell_type": "code",
   "execution_count": 71,
   "metadata": {},
   "outputs": [
    {
     "data": {
      "text/plain": [
       "array([[[ 25.,  25.,  25.,  25.,  75.],\n",
       "        [ 75., 100.,  75.,  25.,  75.],\n",
       "        [  0.,  75.,  75.,  25.,  75.]],\n",
       "\n",
       "       [[ 25.,  75.,  25.,  25.,  75.],\n",
       "        [ 75.,  75.,  75.,  25.,  25.],\n",
       "        [ 25.,  25.,  25.,  25.,  75.]]])"
      ]
     },
     "execution_count": 71,
     "metadata": {},
     "output_type": "execute_result"
    }
   ],
   "source": [
    "f"
   ]
  },
  {
   "cell_type": "markdown",
   "metadata": {},
   "source": [
    "#### 18. Bonus question: instead of using numbers (i.e. 0, 25, 50, 75, and 100), use string values  (\"A\", \"B\", \"C\", \"D\", and \"E\") to label the array elements. For the example above, the expected result is:\n",
    "\n",
    "```python\n",
    "[[[ 'D',  'D',  'D',  'B',  'D'],\n",
    "[ 'D',  'D',  'B',  'B',  'B'],\n",
    "[ 'D',  'B',  'D',  'D',  'D']],\n",
    "[[ 'B',  'B',  'B',  'B',  'E'],\n",
    "[ 'D',  'D',  'D',  'D',  'D'],\n",
    "[ 'B',  'D',   'A',  'D', 'D']]]\n",
    "```\n",
    "**Note**: you don't have to use Numpy in this question."
   ]
  },
  {
   "cell_type": "code",
   "execution_count": 72,
   "metadata": {},
   "outputs": [
    {
     "ename": "ValueError",
     "evalue": "could not convert string to float: 'A'",
     "output_type": "error",
     "traceback": [
      "\u001b[1;31m---------------------------------------------------------------------------\u001b[0m",
      "\u001b[1;31mValueError\u001b[0m                                Traceback (most recent call last)",
      "\u001b[1;32m<ipython-input-72-3d81ff2adf6a>\u001b[0m in \u001b[0;36m<module>\u001b[1;34m\u001b[0m\n\u001b[0;32m      3\u001b[0m         \u001b[1;32mfor\u001b[0m \u001b[0mk\u001b[0m \u001b[1;32min\u001b[0m \u001b[0mrange\u001b[0m\u001b[1;33m(\u001b[0m\u001b[0mlen\u001b[0m\u001b[1;33m(\u001b[0m\u001b[0md\u001b[0m\u001b[1;33m[\u001b[0m\u001b[0mi\u001b[0m\u001b[1;33m]\u001b[0m\u001b[1;33m[\u001b[0m\u001b[0mj\u001b[0m\u001b[1;33m]\u001b[0m\u001b[1;33m)\u001b[0m\u001b[1;33m)\u001b[0m\u001b[1;33m:\u001b[0m\u001b[1;33m\u001b[0m\u001b[1;33m\u001b[0m\u001b[0m\n\u001b[0;32m      4\u001b[0m             \u001b[1;32mif\u001b[0m \u001b[0md\u001b[0m\u001b[1;33m[\u001b[0m\u001b[0mi\u001b[0m\u001b[1;33m]\u001b[0m\u001b[1;33m[\u001b[0m\u001b[0mj\u001b[0m\u001b[1;33m]\u001b[0m\u001b[1;33m[\u001b[0m\u001b[0mk\u001b[0m\u001b[1;33m]\u001b[0m \u001b[1;33m>\u001b[0m \u001b[0md_min\u001b[0m \u001b[1;32mand\u001b[0m \u001b[0md\u001b[0m\u001b[1;33m[\u001b[0m\u001b[0mi\u001b[0m\u001b[1;33m]\u001b[0m\u001b[1;33m[\u001b[0m\u001b[0mj\u001b[0m\u001b[1;33m]\u001b[0m\u001b[1;33m[\u001b[0m\u001b[0mk\u001b[0m\u001b[1;33m]\u001b[0m \u001b[1;33m<\u001b[0m \u001b[0md_mean\u001b[0m\u001b[1;33m:\u001b[0m\u001b[1;33m\u001b[0m\u001b[1;33m\u001b[0m\u001b[0m\n\u001b[1;32m----> 5\u001b[1;33m                 \u001b[0mf\u001b[0m\u001b[1;33m[\u001b[0m\u001b[0mi\u001b[0m\u001b[1;33m]\u001b[0m\u001b[1;33m[\u001b[0m\u001b[0mj\u001b[0m\u001b[1;33m]\u001b[0m\u001b[1;33m[\u001b[0m\u001b[0mk\u001b[0m\u001b[1;33m]\u001b[0m \u001b[1;33m=\u001b[0m \u001b[1;34m'A'\u001b[0m\u001b[1;33m\u001b[0m\u001b[1;33m\u001b[0m\u001b[0m\n\u001b[0m\u001b[0;32m      6\u001b[0m             \u001b[1;32melif\u001b[0m \u001b[0md\u001b[0m\u001b[1;33m[\u001b[0m\u001b[0mi\u001b[0m\u001b[1;33m]\u001b[0m\u001b[1;33m[\u001b[0m\u001b[0mj\u001b[0m\u001b[1;33m]\u001b[0m\u001b[1;33m[\u001b[0m\u001b[0mk\u001b[0m\u001b[1;33m]\u001b[0m \u001b[1;33m>\u001b[0m \u001b[0md_mean\u001b[0m \u001b[1;32mand\u001b[0m \u001b[0md\u001b[0m\u001b[1;33m[\u001b[0m\u001b[0mi\u001b[0m\u001b[1;33m]\u001b[0m\u001b[1;33m[\u001b[0m\u001b[0mj\u001b[0m\u001b[1;33m]\u001b[0m\u001b[1;33m[\u001b[0m\u001b[0mk\u001b[0m\u001b[1;33m]\u001b[0m \u001b[1;33m<\u001b[0m \u001b[0md_max\u001b[0m\u001b[1;33m:\u001b[0m\u001b[1;33m\u001b[0m\u001b[1;33m\u001b[0m\u001b[0m\n\u001b[0;32m      7\u001b[0m                 \u001b[0mf\u001b[0m\u001b[1;33m[\u001b[0m\u001b[0mi\u001b[0m\u001b[1;33m]\u001b[0m\u001b[1;33m[\u001b[0m\u001b[0mj\u001b[0m\u001b[1;33m]\u001b[0m\u001b[1;33m[\u001b[0m\u001b[0mk\u001b[0m\u001b[1;33m]\u001b[0m \u001b[1;33m=\u001b[0m \u001b[1;34m'B'\u001b[0m\u001b[1;33m\u001b[0m\u001b[1;33m\u001b[0m\u001b[0m\n",
      "\u001b[1;31mValueError\u001b[0m: could not convert string to float: 'A'"
     ]
    }
   ],
   "source": [
    "#last for loop method does not work because ValueError = impossible to convert to str\n",
    "\n",
    "for i in range(len(d)):\n",
    "    for j in range(len(d[i])):\n",
    "        for k in range(len(d[i][j])):\n",
    "            if d[i][j][k] > d_min and d[i][j][k] < d_mean:\n",
    "                f[i][j][k] = 'A'\n",
    "            elif d[i][j][k] > d_mean and d[i][j][k] < d_max:\n",
    "                f[i][j][k] = 'B'\n",
    "            elif d[i][j][k] == d_mean :\n",
    "                f[i][j][k] = 'C'\n",
    "            elif d[i][j][k] == d_min :\n",
    "                f[i][j][k] = 'D'\n",
    "            else:\n",
    "                f[i][j][k] = 'E'"
   ]
  },
  {
   "cell_type": "code",
   "execution_count": 96,
   "metadata": {},
   "outputs": [],
   "source": [
    "# creating empty array to populate while iterating through d\n",
    "# static varialbe encoding with STR value - to populate g with strings \n",
    "g = np.empty((2,3,5), dtype=str)"
   ]
  },
  {
   "cell_type": "code",
   "execution_count": 97,
   "metadata": {},
   "outputs": [],
   "source": [
    "iteration = np.nditer(d,flags=['multi_index'])"
   ]
  },
  {
   "cell_type": "code",
   "execution_count": 98,
   "metadata": {},
   "outputs": [],
   "source": [
    "while not iteration.finished:\n",
    "    if iteration[0] == d_min:\n",
    "        g[iteration.multi_index] = 'A'\n",
    "    elif iteration[0] > d_min and iteration[0] < d_mean:\n",
    "        g[iteration.multi_index] = 'B'\n",
    "    elif iteration[0] == d_mean:\n",
    "        g[iteration.multi_index] = 'C'\n",
    "    elif iteration[0] > d_mean and iteration[0] < d_max:\n",
    "        g[iteration.multi_index] = 'D'\n",
    "    else:\n",
    "        g[iteration.multi_index] = 'E'\n",
    "    iteration.iternext()"
   ]
  },
  {
   "cell_type": "code",
   "execution_count": 99,
   "metadata": {},
   "outputs": [
    {
     "data": {
      "text/plain": [
       "array([[['B', 'B', 'B', 'B', 'D'],\n",
       "        ['D', 'E', 'D', 'B', 'D'],\n",
       "        ['A', 'D', 'D', 'B', 'D']],\n",
       "\n",
       "       [['B', 'D', 'B', 'B', 'D'],\n",
       "        ['D', 'D', 'D', 'B', 'B'],\n",
       "        ['B', 'B', 'B', 'B', 'D']]], dtype='<U1')"
      ]
     },
     "execution_count": 99,
     "metadata": {},
     "output_type": "execute_result"
    }
   ],
   "source": [
    "g"
   ]
  }
 ],
 "metadata": {
  "kernelspec": {
   "display_name": "Python 3",
   "language": "python",
   "name": "python3"
  },
  "language_info": {
   "codemirror_mode": {
    "name": "ipython",
    "version": 3
   },
   "file_extension": ".py",
   "mimetype": "text/x-python",
   "name": "python",
   "nbconvert_exporter": "python",
   "pygments_lexer": "ipython3",
   "version": "3.8.0"
  }
 },
 "nbformat": 4,
 "nbformat_minor": 2
}
